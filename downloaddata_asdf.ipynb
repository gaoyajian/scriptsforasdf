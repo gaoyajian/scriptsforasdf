{
 "cells": [
  {
   "cell_type": "code",
   "execution_count": 1,
   "metadata": {},
   "outputs": [
    {
     "ename": "FileExistsError",
     "evalue": "[Errno 17] File exists: 'WITHFOCAL'",
     "output_type": "error",
     "traceback": [
      "\u001b[0;31m---------------------------------------------------------------------------\u001b[0m",
      "\u001b[0;31mFileExistsError\u001b[0m                           Traceback (most recent call last)",
      "\u001b[0;32m<ipython-input-1-6c448d066c01>\u001b[0m in \u001b[0;36m<module>\u001b[0;34m()\u001b[0m\n\u001b[1;32m      1\u001b[0m \u001b[0;31m####instruction for download data\u001b[0m\u001b[0;34m\u001b[0m\u001b[0;34m\u001b[0m\u001b[0m\n\u001b[1;32m      2\u001b[0m \u001b[0;32mimport\u001b[0m \u001b[0mos\u001b[0m\u001b[0;34m\u001b[0m\u001b[0m\n\u001b[0;32m----> 3\u001b[0;31m \u001b[0mos\u001b[0m\u001b[0;34m.\u001b[0m\u001b[0mmkdir\u001b[0m\u001b[0;34m(\u001b[0m\u001b[0;34m'WITHFOCAL'\u001b[0m\u001b[0;34m)\u001b[0m\u001b[0;34m\u001b[0m\u001b[0m\n\u001b[0m",
      "\u001b[0;31mFileExistsError\u001b[0m: [Errno 17] File exists: 'WITHFOCAL'"
     ]
    }
   ],
   "source": [
    "####instruction for download data\n",
    "import os\n",
    "os.mkdir('WITHFOCAL')"
   ]
  },
  {
   "cell_type": "markdown",
   "metadata": {},
   "source": [
    "# reupdate the credential for the gefone FDSN Password and username through"
   ]
  },
  {
   "cell_type": "code",
   "execution_count": 12,
   "metadata": {},
   "outputs": [
    {
     "name": "stdout",
     "output_type": "stream",
     "text": [
      "--2019-02-06 16:22:32--  https://geofon.gfz-potsdam.de/fdsnws/dataselect/1/auth\n",
      "Resolving geofon.gfz-potsdam.de (geofon.gfz-potsdam.de)... 139.17.3.177\n",
      "Connecting to geofon.gfz-potsdam.de (geofon.gfz-potsdam.de)|139.17.3.177|:443... connected.\n",
      "HTTP request sent, awaiting response... 200 OK\n",
      "Length: 41 [text/plain]\n",
      "Saving to: ‘cred.txt’\n",
      "\n",
      "cred.txt            100%[===================>]      41  --.-KB/s    in 0s      \n",
      "\n",
      "2019-02-06 16:22:33 (4.26 MB/s) - ‘cred.txt’ saved [41/41]\n",
      "\n"
     ]
    }
   ],
   "source": [
    " !wget --post-file /home/yjgao/token.asc https://geofon.gfz-potsdam.de/fdsnws/dataselect/1/auth -O cred.txt"
   ]
  },
  {
   "cell_type": "markdown",
   "metadata": {},
   "source": [
    "# specify the parameters for the range of stations and usrname and password in the retreveventdata.py "
   ]
  },
  {
   "cell_type": "markdown",
   "metadata": {},
   "source": [
    "# download spud files which contains the GCMT information through https://ds.iris.edu/spud/momenttensor and unzip this file"
   ]
  },
  {
   "cell_type": "markdown",
   "metadata": {},
   "source": [
    "# extract the information from spud files into NDK dir"
   ]
  },
  {
   "cell_type": "code",
   "execution_count": 14,
   "metadata": {},
   "outputs": [],
   "source": [
    "!bash extractNDK.sh"
   ]
  },
  {
   "cell_type": "code",
   "execution_count": null,
   "metadata": {},
   "outputs": [
    {
     "name": "stdout",
     "output_type": "stream",
     "text": [
      "../NDK/C201701030909A.ndk\n",
      "True\n",
      "1 Event(s) in Catalog:\n",
      "2017-01-03T09:09:04.000000Z | +23.980,  +92.030 | 5.6 Mwc\n",
      "[2019-02-06 16:29:20,634] - obspy.clients.fdsn.mass_downloader - INFO: Initializing FDSN client(s) for http://geofon.gfz-potsdam.de, IRIS.\n",
      "[2019-02-06 16:29:20,643] - obspy.clients.fdsn.mass_downloader - INFO: Successfully initialized 2 client(s): http://geofon.gfz-potsdam.de, IRIS.\n",
      "[2019-02-06 16:29:20,643] - obspy.clients.fdsn.mass_downloader - INFO: Total acquired or preexisting stations: 0\n",
      "[2019-02-06 16:29:20,644] - obspy.clients.fdsn.mass_downloader - INFO: Client 'http://geofon.gfz-potsdam.de' - Requesting unreliable availability.\n",
      "[2019-02-06 16:29:21,159] - obspy.clients.fdsn.mass_downloader - INFO: Client 'http://geofon.gfz-potsdam.de' - Successfully requested availability (0.51 seconds)\n",
      "[2019-02-06 16:29:21,163] - obspy.clients.fdsn.mass_downloader - INFO: Client 'http://geofon.gfz-potsdam.de' - Found 18 stations (38 channels).\n",
      "[2019-02-06 16:29:21,163] - obspy.clients.fdsn.mass_downloader - INFO: Client 'http://geofon.gfz-potsdam.de' - Will attempt to download data from 18 stations.\n",
      "[2019-02-06 16:29:21,165] - obspy.clients.fdsn.mass_downloader - INFO: Client 'http://geofon.gfz-potsdam.de' - Status for 30 time intervals/channels before downloading: EXISTS\n",
      "[2019-02-06 16:29:21,165] - obspy.clients.fdsn.mass_downloader - INFO: Client 'http://geofon.gfz-potsdam.de' - Status for 8 time intervals/channels before downloading: NEEDS_DOWNLOADING\n"
     ]
    }
   ],
   "source": [
    "!python retrieveventdata.py 2017 01 03 09:09:02 9951653 24.0161 92.0062"
   ]
  },
  {
   "cell_type": "code",
   "execution_count": 5,
   "metadata": {},
   "outputs": [
    {
     "data": {
      "text/plain": [
       "'/data/home/yjgao/data/20170103/asdf/sourceinversion'"
      ]
     },
     "execution_count": 5,
     "metadata": {},
     "output_type": "execute_result"
    }
   ],
   "source": [
    "pwd"
   ]
  },
  {
   "cell_type": "code",
   "execution_count": null,
   "metadata": {},
   "outputs": [],
   "source": []
  }
 ],
 "metadata": {
  "kernelspec": {
   "display_name": "python(lasif)",
   "language": "python",
   "name": "lasif"
  },
  "language_info": {
   "codemirror_mode": {
    "name": "ipython",
    "version": 3
   },
   "file_extension": ".py",
   "mimetype": "text/x-python",
   "name": "python",
   "nbconvert_exporter": "python",
   "pygments_lexer": "ipython3",
   "version": "3.6.5"
  }
 },
 "nbformat": 4,
 "nbformat_minor": 2
}
